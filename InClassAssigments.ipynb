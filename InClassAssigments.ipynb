{
  "nbformat": 4,
  "nbformat_minor": 0,
  "metadata": {
    "colab": {
      "provenance": [],
      "authorship_tag": "ABX9TyNFUmG8dtJpTRx9YsdEf5m/",
      "include_colab_link": true
    },
    "kernelspec": {
      "name": "python3",
      "display_name": "Python 3"
    },
    "language_info": {
      "name": "python"
    }
  },
  "cells": [
    {
      "cell_type": "markdown",
      "metadata": {
        "id": "view-in-github",
        "colab_type": "text"
      },
      "source": [
        "<a href=\"https://colab.research.google.com/github/henrysmidt/Test/blob/main/InClassAssigments.ipynb\" target=\"_parent\"><img src=\"https://colab.research.google.com/assets/colab-badge.svg\" alt=\"Open In Colab\"/></a>"
      ]
    },
    {
      "cell_type": "code",
      "execution_count": null,
      "metadata": {
        "colab": {
          "base_uri": "https://localhost:8080/"
        },
        "id": "piWaxxirlHzz",
        "outputId": "36d99083-cbd9-49b7-9a54-6e0f8bb89ab5"
      },
      "outputs": [
        {
          "output_type": "stream",
          "name": "stdout",
          "text": [
            "Please provide the radius:5\n",
            "Please provide the height6\n",
            "Area of cylinder: 345.4sq. ft\n"
          ]
        }
      ],
      "source": [
        "pi=3.14\n",
        "radius=float(input('Please provide the radius:'))\n",
        "height=float(input('Please provide the height'))\n",
        "area=2*pi*radius**2+2*pi*radius*height\n",
        "print(f'Area of cylinder: {area}sq. ft')\n"
      ]
    },
    {
      "cell_type": "code",
      "source": [
        "number_1 = float(input('Please provide the first number: '))\n",
        "number_2 = float(input('Please provide the second number: '))\n",
        "symbol = input('please provide a symbol: ')\n",
        "\n",
        "if symbol == '+':\n",
        "    print(f'{number_1} + {number_2} = {number_1 + number_2}')\n",
        "elif symbol == '-':\n",
        "    print(f'{number_1} - {number_2} = {number_1 - number_2}')\n",
        "elif symbol == '*':\n",
        "    print(f'{number_1} * {number_2} = {number_1 * number_2}')\n",
        "elif symbol == '/':\n",
        "    print(f'{number_1} / {number_2} = {number_1 / number_2}')\n",
        "elif symbol == '%':\n",
        "    print(f'{number_1} % {number_2} = {number_1 % number_2}')\n",
        "elif symbol == '**':\n",
        "    print(f'{number_1} ** {number_2} = {number_1 ** number_2}')\n",
        "elif symbol == '//':\n",
        "    print(f'{number_1} // {number_2} = {number_1 // number_2}')\n",
        "else:\n",
        "    print('Invalid symbol')"
      ],
      "metadata": {
        "id": "hlhihG1APXD8",
        "colab": {
          "base_uri": "https://localhost:8080/"
        },
        "outputId": "ab424e2e-edea-4085-a10d-f24358ba67d1"
      },
      "execution_count": 1,
      "outputs": [
        {
          "output_type": "stream",
          "name": "stdout",
          "text": [
            "Please provide the first number: 8\n",
            "Please provide the second number: 7\n",
            "please provide a symbol: *\n",
            "8.0 * 7.0 = 56.0\n"
          ]
        }
      ]
    },
    {
      "cell_type": "code",
      "source": [
        "for numberHours in range(1,9):\n",
        "  fee=5+2.5*numberHours\n",
        "  if fee<10:\n",
        "    fee=10.0\n",
        "  elif fee>20:\n",
        "    fee=20.0\n",
        "  print(numberHours,fee)"
      ],
      "metadata": {
        "colab": {
          "base_uri": "https://localhost:8080/"
        },
        "id": "51B6HqdXXm8A",
        "outputId": "8d16aeb5-a3df-40af-8473-9464a6a0a441"
      },
      "execution_count": null,
      "outputs": [
        {
          "output_type": "stream",
          "name": "stdout",
          "text": [
            "1 10.0\n",
            "2 10.0\n",
            "3 12.5\n",
            "4 15.0\n",
            "5 17.5\n",
            "6 20.0\n",
            "7 20.0\n",
            "8 20.0\n"
          ]
        }
      ]
    },
    {
      "cell_type": "code",
      "source": [
        "for adMoney in range(0,201,25):\n",
        "  revenue=(20+2*round(adMoney**.5))*10\n",
        "  costs=200+adMoney\n",
        "  profit=revenue-costs\n",
        "  print(adMoney,profit)"
      ],
      "metadata": {
        "colab": {
          "base_uri": "https://localhost:8080/"
        },
        "id": "jibGj_ZYdIWf",
        "outputId": "675e4999-9303-4ff0-a0fa-df888f7e80b2"
      },
      "execution_count": null,
      "outputs": [
        {
          "output_type": "stream",
          "name": "stdout",
          "text": [
            "0 0\n",
            "25 75\n",
            "50 90\n",
            "75 105\n",
            "100 100\n",
            "125 95\n",
            "150 90\n",
            "175 85\n",
            "200 80\n"
          ]
        }
      ]
    },
    {
      "cell_type": "code",
      "source": [
        "import random\n",
        "\n",
        "play=input('Do you want to play a game (yes/no)?')\n",
        "\n",
        "while play=='yes':\n",
        "  p1=input('Player 1- Choose between rock/paper/scissors:')\n",
        "  p2=random.choice({'rock','paper','scissors'})\n",
        "\n",
        "  if p1==p2:\n",
        "    print('Draw')\n",
        "  elif p1=='Rock' and p2== 'Scissors':\n",
        "    print('Player 1 wins!')\n",
        "  elif p1=='Scissors' and p2== 'Paper':\n",
        "    print('Player 1 wins!')\n",
        "  elif p1=='Paper' and p2== 'Rock':\n",
        "    print('Player 1 wins!')\n",
        "  else:\n",
        "    print('Computer wins!')\n",
        "\n",
        "  play=input('Do you want to play a game (yes/no)?')\n",
        "print('Good day...')"
      ],
      "metadata": {
        "colab": {
          "base_uri": "https://localhost:8080/"
        },
        "id": "1WKJJ0CbHSaJ",
        "outputId": "562230b7-fb28-4ba0-bcf9-b730f5a0e663"
      },
      "execution_count": null,
      "outputs": [
        {
          "output_type": "stream",
          "name": "stdout",
          "text": [
            "Do you want to play a game (yes/no)?yes\n",
            "Player 1- Choose between rock/paper/scissors:rock\n",
            "Player 2- Choose between rock/paper/scissors:paper\n",
            "Player 2 wins!\n",
            "Do you want to play a game (yes/no)?no\n",
            "Good day...\n"
          ]
        }
      ]
    },
    {
      "cell_type": "code",
      "source": [
        "LIST=[]\n",
        "\n",
        "NUMBERS=float(input('give me a number:'))\n",
        "\n",
        "while NUMBERS!=0:\n",
        "  LIST.append(NUMBERS)\n",
        "  NUMBERS=float(input('give me a number:'))\n",
        "LIST.sort(reverse=True)\n",
        "print(LIST)"
      ],
      "metadata": {
        "id": "S_d2n9oqdxgo",
        "colab": {
          "base_uri": "https://localhost:8080/"
        },
        "outputId": "f9e364ad-d032-495f-ea38-f9c81dee525d"
      },
      "execution_count": null,
      "outputs": [
        {
          "output_type": "stream",
          "name": "stdout",
          "text": [
            "give me a number:5\n",
            "give me a number:5\n",
            "give me a number:0\n",
            "[5.0, 5.0]\n"
          ]
        }
      ]
    },
    {
      "cell_type": "code",
      "source": [
        "months={}\n",
        "\n",
        "names=['jan','feb','mar','apr','may','jun','jul','aug','sep','oct','nov','dec']\n",
        "numbers=[1,2,3,4,5,6,7,8,9,10,11,12]\n",
        "\n",
        "for idx in range(len(numbers)):\n",
        "  months[numbers[idx]]=names[idx]\n",
        "print(months)"
      ],
      "metadata": {
        "colab": {
          "base_uri": "https://localhost:8080/"
        },
        "id": "_Q-8yXmyFdja",
        "outputId": "38e64d0c-564b-4eec-82f2-1bf110423cb6"
      },
      "execution_count": null,
      "outputs": [
        {
          "output_type": "stream",
          "name": "stdout",
          "text": [
            "{1: 'jan', 2: 'feb', 3: 'mar', 4: 'apr', 5: 'may', 6: 'jun', 7: 'jul', 8: 'aug', 9: 'sep', 10: 'oct', 11: 'nov', 12: 'dec'}\n"
          ]
        }
      ]
    },
    {
      "cell_type": "code",
      "source": [
        "months={}\n",
        "\n",
        "names=['jan','feb','mar','apr','may','jun','jul','aug','sep','oct','nov','dec']\n",
        "numbers=[1,2,3,4,5,6,7,8,9,10,11,12]\n",
        "\n",
        "cntr=0\n",
        "for num in numbers:\n",
        "  months[num]=names[cntr]\n",
        "  cntr +=1\n",
        "months"
      ],
      "metadata": {
        "colab": {
          "base_uri": "https://localhost:8080/"
        },
        "id": "RiQ1IPZMG85E",
        "outputId": "baaad137-2970-4d07-b045-5fe680c8b242"
      },
      "execution_count": null,
      "outputs": [
        {
          "output_type": "execute_result",
          "data": {
            "text/plain": [
              "{1: 'jan',\n",
              " 2: 'feb',\n",
              " 3: 'mar',\n",
              " 4: 'apr',\n",
              " 5: 'may',\n",
              " 6: 'jun',\n",
              " 7: 'jul',\n",
              " 8: 'aug',\n",
              " 9: 'sep',\n",
              " 10: 'oct',\n",
              " 11: 'nov',\n",
              " 12: 'dec'}"
            ]
          },
          "metadata": {},
          "execution_count": 4
        }
      ]
    },
    {
      "cell_type": "code",
      "source": [
        "counts = {}\n",
        "\n",
        "while len(counts) < 5:\n",
        "  key = input('Give a string: ')\n",
        "\n",
        "  if key not in counts:\n",
        "    counts[key] = 1\n",
        "  else:\n",
        "    counts[key] += 1\n",
        "counts"
      ],
      "metadata": {
        "colab": {
          "base_uri": "https://localhost:8080/"
        },
        "id": "VRNwAJ5-HXu-",
        "outputId": "4f46c15d-4ae4-4ff3-f093-62e5af4789e6"
      },
      "execution_count": 2,
      "outputs": [
        {
          "name": "stdout",
          "output_type": "stream",
          "text": [
            "Give a string: a\n",
            "Give a string: b\n",
            "Give a string: c\n",
            "Give a string: a\n",
            "Give a string: a\n",
            "Give a string: b\n",
            "Give a string: c\n",
            "Give a string: e\n",
            "Give a string: d\n"
          ]
        },
        {
          "output_type": "execute_result",
          "data": {
            "text/plain": [
              "{'a': 3, 'b': 2, 'c': 2, 'e': 1, 'd': 1}"
            ]
          },
          "metadata": {},
          "execution_count": 2
        }
      ]
    },
    {
      "cell_type": "code",
      "source": [
        "def calcFee(hours):\n",
        "    base_fee = 5\n",
        "    hourly_rate = 2.5\n",
        "    total_fee = base_fee + (hours * hourly_rate)\n",
        "    return total_fee\n",
        "\n",
        "hours_parked = int(input(\"Enter hours parked: \"))\n",
        "fee = calcFee(hours_parked)\n",
        "print(f\"Parking fee: $ {fee:.2f}\")"
      ],
      "metadata": {
        "colab": {
          "base_uri": "https://localhost:8080/"
        },
        "id": "4Ol_5Up3KCzp",
        "outputId": "05ba6abf-7d37-41ba-e7b3-2733e515a179"
      },
      "execution_count": null,
      "outputs": [
        {
          "output_type": "stream",
          "name": "stdout",
          "text": [
            "Enter hours parked: 4\n",
            "Parking fee: $ 15.00\n"
          ]
        }
      ]
    },
    {
      "cell_type": "code",
      "source": [
        "def reverse(s):\n",
        "  if len(s) <= 1:\n",
        "    return s\n",
        "  else:\n",
        "    #return s[-1] + reverse(s[:-1])\n",
        "    #return s[-1] + reverse(s[1:-1]) + s[0]\n",
        "    return reverse(s[1:]) + s[0]\n",
        "\n",
        "reverse('Hello')"
      ],
      "metadata": {
        "id": "Ok__zIOBYew1",
        "colab": {
          "base_uri": "https://localhost:8080/",
          "height": 35
        },
        "outputId": "be1f1073-f52a-44b5-b02e-22fc22dcf072"
      },
      "execution_count": 3,
      "outputs": [
        {
          "output_type": "execute_result",
          "data": {
            "text/plain": [
              "'olleH'"
            ],
            "application/vnd.google.colaboratory.intrinsic+json": {
              "type": "string"
            }
          },
          "metadata": {},
          "execution_count": 3
        }
      ]
    },
    {
      "cell_type": "code",
      "source": [
        "def calcFee(hours):\n",
        "  try:\n",
        "   fee = 5 + 2.5 * hours\n",
        "   if fee < 10:\n",
        "    fee = 10.0\n",
        "   elif fee > 20:\n",
        "    fee = 20.0\n",
        "    print(f'Fee: {fee}$')\n",
        "  except:\n",
        "    print('Round to the nearest hour')\n",
        "def main():\n",
        "  hours_parked = (input('Please input the number of hours parked: '))\n",
        "  calcFee(hours_parked)\n",
        "if __name__ == '__main__':\n",
        "  main()"
      ],
      "metadata": {
        "colab": {
          "base_uri": "https://localhost:8080/"
        },
        "id": "7-byD45ERXGL",
        "outputId": "0e448675-b6ec-4a21-9071-47c180605c3b"
      },
      "execution_count": 4,
      "outputs": [
        {
          "output_type": "stream",
          "name": "stdout",
          "text": [
            "Please input the number of hours parked: 4.5\n",
            "Round to the nearest hour\n"
          ]
        }
      ]
    },
    {
      "cell_type": "code",
      "source": [
        "def getValues(n):\n",
        "  values = []\n",
        "  for _ in range(n):\n",
        "    value = float(input(\"Enter weight: \"))\n",
        "    values.append(value)\n",
        "  return values\n",
        "\n",
        "def calcAverage(alist):\n",
        "  if len(alist) < 3:\n",
        "    return 0\n",
        "\n",
        "  relevant_values = alist[2:]\n",
        "  if not relevant_values:\n",
        "    return 0\n",
        "\n",
        "  return sum(relevant_values) / len(relevant_values)\n",
        "\n",
        "num_values = int(input(\"Enter the number of weights: \"))\n",
        "\n",
        "values_list = getValues(num_values)\n",
        "average = calcAverage(values_list)\n",
        "print(\"The average is (excluding the first two values):\", average)"
      ],
      "metadata": {
        "colab": {
          "base_uri": "https://localhost:8080/"
        },
        "id": "05CuR1LJR9EP",
        "outputId": "963aa8b9-29b7-4460-f519-ced2f09f3dc2"
      },
      "execution_count": 6,
      "outputs": [
        {
          "output_type": "stream",
          "name": "stdout",
          "text": [
            "Enter the number of weights: 2\n",
            "Enter weight: 2\n",
            "Enter weight: 2\n",
            "The average is (excluding the first two values): 0\n"
          ]
        }
      ]
    },
    {
      "cell_type": "code",
      "source": [
        "class Greeting:\n",
        "  def __init__(self, first, last):\n",
        "    self.first = first\n",
        "    self.last = last\n",
        "\n",
        "  def display(self, formal = False):\n",
        "    if formal:\n",
        "      print(f'Hi {self.first} {self.last}')\n",
        "    else:\n",
        "      print(f'Hi {self.first}')\n",
        "\n",
        "  def __str__(self):\n",
        "    return f'{self.first} {self.last}'\n",
        "\n",
        "  def __repr__(self):\n",
        "    return f'{self.first} {self.last}'"
      ],
      "metadata": {
        "id": "9HMV1WqjSC1S"
      },
      "execution_count": 10,
      "outputs": []
    },
    {
      "cell_type": "code",
      "source": [
        "g = Greeting('Donald', 'Becker')"
      ],
      "metadata": {
        "id": "QUZXu1ESSV_k"
      },
      "execution_count": 11,
      "outputs": []
    },
    {
      "cell_type": "code",
      "source": [
        "g.display(formal = True)\n",
        "print(g)"
      ],
      "metadata": {
        "colab": {
          "base_uri": "https://localhost:8080/"
        },
        "id": "AUHsXbKPSXUx",
        "outputId": "ca4e39cd-86d1-49c8-bb43-83edabc3872b"
      },
      "execution_count": 12,
      "outputs": [
        {
          "output_type": "stream",
          "name": "stdout",
          "text": [
            "Hi Donald Becker\n",
            "Donald Becker\n"
          ]
        }
      ]
    },
    {
      "cell_type": "code",
      "source": [
        "class Student:\n",
        "  def __init__(self, first, last, number):\n",
        "    self.first = first\n",
        "    self.last = last\n",
        "    self.number = number\n",
        "\n",
        "  def __str__(self):\n",
        "    return f'{self.first} {self.last} {self.number}'\n",
        "\n",
        "s1 = Student('James', 'Bond', 1007)\n",
        "s2 = Student('Clark', 'Kent', 333)\n",
        "print(s1)\n",
        "print(s2)"
      ],
      "metadata": {
        "colab": {
          "base_uri": "https://localhost:8080/"
        },
        "id": "zNwGeAAYSeAG",
        "outputId": "2a6cebda-c4ac-40de-c581-3bde9a69e57b"
      },
      "execution_count": 13,
      "outputs": [
        {
          "output_type": "stream",
          "name": "stdout",
          "text": [
            "James Bond 1007\n",
            "Clark Kent 333\n"
          ]
        }
      ]
    },
    {
      "cell_type": "code",
      "source": [
        "import math\n",
        "\n",
        "class Point:\n",
        "  def __init__(self, x, y):\n",
        "    self.x = x\n",
        "    self.y = y\n",
        "\n",
        "  def distance(self, other):\n",
        "    return math.sqrt((self.x - other.x) ** 2 + (self.y - other.y) ** 2)\n",
        "\n",
        "p1 = Point(0, 0)\n",
        "p2 = Point(3, 4)\n",
        "print(p1.distance(p2))"
      ],
      "metadata": {
        "colab": {
          "base_uri": "https://localhost:8080/"
        },
        "id": "8nUk7eqrSj1U",
        "outputId": "38ff4944-a61e-43a0-9367-5931022f3dd6"
      },
      "execution_count": 14,
      "outputs": [
        {
          "output_type": "stream",
          "name": "stdout",
          "text": [
            "5.0\n"
          ]
        }
      ]
    },
    {
      "cell_type": "code",
      "source": [
        "class Rectangle:\n",
        "  def __init__(self):\n",
        "    self.c1 = Point(0, 0)\n",
        "    self.c2 = Point(0, 2)\n",
        "    self.c3 = Point(2, 0)\n",
        "    self.c4 = Point(2, 2)\n",
        "\n",
        "  def calculate_width(self):\n",
        "    return self.c1.distance(self.c2)\n",
        "\n",
        "  def calculate_length(self):\n",
        "    return self.c1.distance(self.c3)\n",
        "\n",
        "  def area(self):\n",
        "    return f' Area = {self.calculate_width() * self.calculate_length()} sq.ft'\n",
        "\n",
        "square = Rectangle()\n",
        "square.area()"
      ],
      "metadata": {
        "colab": {
          "base_uri": "https://localhost:8080/",
          "height": 35
        },
        "id": "IXhdqXrpSoh9",
        "outputId": "740a8906-63d7-410d-8cc3-9e3b7afc3c5f"
      },
      "execution_count": 15,
      "outputs": [
        {
          "output_type": "execute_result",
          "data": {
            "text/plain": [
              "' Area = 4.0 sq.ft'"
            ],
            "application/vnd.google.colaboratory.intrinsic+json": {
              "type": "string"
            }
          },
          "metadata": {},
          "execution_count": 15
        }
      ]
    }
  ]
}