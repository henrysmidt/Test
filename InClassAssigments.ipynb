{
  "nbformat": 4,
  "nbformat_minor": 0,
  "metadata": {
    "colab": {
      "provenance": [],
      "authorship_tag": "ABX9TyPp5OFK1+RoOjodsD5sH1sT",
      "include_colab_link": true
    },
    "kernelspec": {
      "name": "python3",
      "display_name": "Python 3"
    },
    "language_info": {
      "name": "python"
    }
  },
  "cells": [
    {
      "cell_type": "markdown",
      "metadata": {
        "id": "view-in-github",
        "colab_type": "text"
      },
      "source": [
        "<a href=\"https://colab.research.google.com/github/henrysmidt/Test/blob/main/InClassAssigments.ipynb\" target=\"_parent\"><img src=\"https://colab.research.google.com/assets/colab-badge.svg\" alt=\"Open In Colab\"/></a>"
      ]
    },
    {
      "cell_type": "code",
      "execution_count": null,
      "metadata": {
        "colab": {
          "base_uri": "https://localhost:8080/"
        },
        "id": "piWaxxirlHzz",
        "outputId": "36d99083-cbd9-49b7-9a54-6e0f8bb89ab5"
      },
      "outputs": [
        {
          "output_type": "stream",
          "name": "stdout",
          "text": [
            "Please provide the radius:5\n",
            "Please provide the height6\n",
            "Area of cylinder: 345.4sq. ft\n"
          ]
        }
      ],
      "source": [
        "pi=3.14\n",
        "radius=float(input('Please provide the radius:'))\n",
        "height=float(input('Please provide the height'))\n",
        "area=2*pi*radius**2+2*pi*radius*height\n",
        "print(f'Area of cylinder: {area}sq. ft')\n"
      ]
    },
    {
      "cell_type": "code",
      "source": [
        "for numberHours in range(1,9):\n",
        "  fee=5+2.5*numberHours\n",
        "  if fee<10:\n",
        "    fee=10.0\n",
        "  elif fee>20:\n",
        "    fee=20.0\n",
        "  print(numberHours,fee)"
      ],
      "metadata": {
        "colab": {
          "base_uri": "https://localhost:8080/"
        },
        "id": "51B6HqdXXm8A",
        "outputId": "8d16aeb5-a3df-40af-8473-9464a6a0a441"
      },
      "execution_count": null,
      "outputs": [
        {
          "output_type": "stream",
          "name": "stdout",
          "text": [
            "1 10.0\n",
            "2 10.0\n",
            "3 12.5\n",
            "4 15.0\n",
            "5 17.5\n",
            "6 20.0\n",
            "7 20.0\n",
            "8 20.0\n"
          ]
        }
      ]
    },
    {
      "cell_type": "code",
      "source": [
        "for adMoney in range(0,201,25):\n",
        "  revenue=(20+2*round(adMoney**.5))*10\n",
        "  costs=200+adMoney\n",
        "  profit=revenue-costs\n",
        "  print(adMoney,profit)"
      ],
      "metadata": {
        "colab": {
          "base_uri": "https://localhost:8080/"
        },
        "id": "jibGj_ZYdIWf",
        "outputId": "675e4999-9303-4ff0-a0fa-df888f7e80b2"
      },
      "execution_count": null,
      "outputs": [
        {
          "output_type": "stream",
          "name": "stdout",
          "text": [
            "0 0\n",
            "25 75\n",
            "50 90\n",
            "75 105\n",
            "100 100\n",
            "125 95\n",
            "150 90\n",
            "175 85\n",
            "200 80\n"
          ]
        }
      ]
    },
    {
      "cell_type": "code",
      "source": [
        "import random\n",
        "\n",
        "play=input('Do you want to play a game (yes/no)?')\n",
        "\n",
        "while play=='yes':\n",
        "  p1=input('Player 1- Choose between rock/paper/scissors:')\n",
        "  p2=random.choice({'rock','paper','scissors'})\n",
        "\n",
        "  if p1==p2:\n",
        "    print('Draw')\n",
        "  elif p1=='Rock' and p2== 'Scissors':\n",
        "    print('Player 1 wins!')\n",
        "  elif p1=='Scissors' and p2== 'Paper':\n",
        "    print('Player 1 wins!')\n",
        "  elif p1=='Paper' and p2== 'Rock':\n",
        "    print('Player 1 wins!')\n",
        "  else:\n",
        "    print('Computer wins!')\n",
        "\n",
        "  play=input('Do you want to play a game (yes/no)?')\n",
        "print('Good day...')"
      ],
      "metadata": {
        "colab": {
          "base_uri": "https://localhost:8080/"
        },
        "id": "1WKJJ0CbHSaJ",
        "outputId": "562230b7-fb28-4ba0-bcf9-b730f5a0e663"
      },
      "execution_count": null,
      "outputs": [
        {
          "output_type": "stream",
          "name": "stdout",
          "text": [
            "Do you want to play a game (yes/no)?yes\n",
            "Player 1- Choose between rock/paper/scissors:rock\n",
            "Player 2- Choose between rock/paper/scissors:paper\n",
            "Player 2 wins!\n",
            "Do you want to play a game (yes/no)?no\n",
            "Good day...\n"
          ]
        }
      ]
    },
    {
      "cell_type": "code",
      "source": [
        "LIST=[]\n",
        "\n",
        "NUMBERS=float(input('give me a number:'))\n",
        "\n",
        "while NUMBERS!=0:\n",
        "  LIST.append(NUMBERS)\n",
        "  NUMBERS=float(input('give me a number:'))\n",
        "LIST.sort(reverse=True)\n",
        "print(LIST)"
      ],
      "metadata": {
        "id": "S_d2n9oqdxgo",
        "colab": {
          "base_uri": "https://localhost:8080/"
        },
        "outputId": "f9e364ad-d032-495f-ea38-f9c81dee525d"
      },
      "execution_count": null,
      "outputs": [
        {
          "output_type": "stream",
          "name": "stdout",
          "text": [
            "give me a number:5\n",
            "give me a number:5\n",
            "give me a number:0\n",
            "[5.0, 5.0]\n"
          ]
        }
      ]
    },
    {
      "cell_type": "code",
      "source": [
        "months={}\n",
        "\n",
        "names=['jan','feb','mar','apr','may','jun','jul','aug','sep','oct','nov','dec']\n",
        "numbers=[1,2,3,4,5,6,7,8,9,10,11,12]\n",
        "\n",
        "for idx in range(len(numbers)):\n",
        "  months[numbers[idx]]=names[idx]\n",
        "print(months)"
      ],
      "metadata": {
        "colab": {
          "base_uri": "https://localhost:8080/"
        },
        "id": "_Q-8yXmyFdja",
        "outputId": "38e64d0c-564b-4eec-82f2-1bf110423cb6"
      },
      "execution_count": null,
      "outputs": [
        {
          "output_type": "stream",
          "name": "stdout",
          "text": [
            "{1: 'jan', 2: 'feb', 3: 'mar', 4: 'apr', 5: 'may', 6: 'jun', 7: 'jul', 8: 'aug', 9: 'sep', 10: 'oct', 11: 'nov', 12: 'dec'}\n"
          ]
        }
      ]
    },
    {
      "cell_type": "code",
      "source": [
        "months={}\n",
        "\n",
        "names=['jan','feb','mar','apr','may','jun','jul','aug','sep','oct','nov','dec']\n",
        "numbers=[1,2,3,4,5,6,7,8,9,10,11,12]\n",
        "\n",
        "cntr=0\n",
        "for num in numbers:\n",
        "  months[num]=names[cntr]\n",
        "  cntr +=1\n",
        "months"
      ],
      "metadata": {
        "colab": {
          "base_uri": "https://localhost:8080/"
        },
        "id": "RiQ1IPZMG85E",
        "outputId": "baaad137-2970-4d07-b045-5fe680c8b242"
      },
      "execution_count": null,
      "outputs": [
        {
          "output_type": "execute_result",
          "data": {
            "text/plain": [
              "{1: 'jan',\n",
              " 2: 'feb',\n",
              " 3: 'mar',\n",
              " 4: 'apr',\n",
              " 5: 'may',\n",
              " 6: 'jun',\n",
              " 7: 'jul',\n",
              " 8: 'aug',\n",
              " 9: 'sep',\n",
              " 10: 'oct',\n",
              " 11: 'nov',\n",
              " 12: 'dec'}"
            ]
          },
          "metadata": {},
          "execution_count": 4
        }
      ]
    },
    {
      "cell_type": "code",
      "source": [
        "counts={}\n",
        "\n",
        "while len(counts)<5:\n",
        "  key=input('given a string:')\n",
        "\n",
        "  if key not in counts:\n",
        "    counts[key]=1\n",
        "  else:\n",
        "    counts[key]+=1\n",
        "print(counts)"
      ],
      "metadata": {
        "colab": {
          "base_uri": "https://localhost:8080/"
        },
        "id": "VRNwAJ5-HXu-",
        "outputId": "6e38f2cd-0ce9-48aa-f2a7-ac10ce0564d9"
      },
      "execution_count": null,
      "outputs": [
        {
          "output_type": "stream",
          "name": "stdout",
          "text": [
            "given a string:1\n",
            "given a string:32\n",
            "given a string:4\n",
            "given a string:5\n",
            "given a string:3\n",
            "{'1': 1, '32': 1, '4': 1, '5': 1, '3': 1}\n"
          ]
        }
      ]
    },
    {
      "cell_type": "code",
      "source": [
        "def calcFee(hours):\n",
        "    base_fee = 5\n",
        "    hourly_rate = 2.5\n",
        "    total_fee = base_fee + (hours * hourly_rate)\n",
        "    return total_fee\n",
        "\n",
        "hours_parked = int(input(\"Enter hours parked: \"))\n",
        "fee = calcFee(hours_parked)\n",
        "print(f\"Parking fee: $ {fee:.2f}\")"
      ],
      "metadata": {
        "colab": {
          "base_uri": "https://localhost:8080/"
        },
        "id": "4Ol_5Up3KCzp",
        "outputId": "05ba6abf-7d37-41ba-e7b3-2733e515a179"
      },
      "execution_count": 1,
      "outputs": [
        {
          "output_type": "stream",
          "name": "stdout",
          "text": [
            "Enter hours parked: 4\n",
            "Parking fee: $ 15.00\n"
          ]
        }
      ]
    },
    {
      "cell_type": "code",
      "source": [
        "class Greeting:\n",
        "  def __init__(self, first, last):\n",
        "    self.first=first\n",
        "    self.last=last\n",
        "  def display(self):\n",
        "    print(f'Hello {self.first} {self.last}')\n",
        "\n",
        "greeting=Greeting('Donald', 'Becker')\n",
        "greeting.display()"
      ],
      "metadata": {
        "id": "Ok__zIOBYew1"
      },
      "execution_count": null,
      "outputs": []
    }
  ]
}