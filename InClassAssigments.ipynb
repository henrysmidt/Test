{
  "nbformat": 4,
  "nbformat_minor": 0,
  "metadata": {
    "colab": {
      "provenance": [],
      "authorship_tag": "ABX9TyOi9Q/c2Z8fweu24jNTJswp",
      "include_colab_link": true
    },
    "kernelspec": {
      "name": "python3",
      "display_name": "Python 3"
    },
    "language_info": {
      "name": "python"
    }
  },
  "cells": [
    {
      "cell_type": "markdown",
      "metadata": {
        "id": "view-in-github",
        "colab_type": "text"
      },
      "source": [
        "<a href=\"https://colab.research.google.com/github/henrysmidt/Test/blob/main/InClassAssigments.ipynb\" target=\"_parent\"><img src=\"https://colab.research.google.com/assets/colab-badge.svg\" alt=\"Open In Colab\"/></a>"
      ]
    },
    {
      "cell_type": "code",
      "execution_count": 1,
      "metadata": {
        "colab": {
          "base_uri": "https://localhost:8080/"
        },
        "id": "piWaxxirlHzz",
        "outputId": "36d99083-cbd9-49b7-9a54-6e0f8bb89ab5"
      },
      "outputs": [
        {
          "output_type": "stream",
          "name": "stdout",
          "text": [
            "Please provide the radius:5\n",
            "Please provide the height6\n",
            "Area of cylinder: 345.4sq. ft\n"
          ]
        }
      ],
      "source": [
        "pi=3.14\n",
        "radius=float(input('Please provide the radius:'))\n",
        "height=float(input('Please provide the height'))\n",
        "area=2*pi*radius**2+2*pi*radius*height\n",
        "print(f'Area of cylinder: {area}sq. ft')\n"
      ]
    },
    {
      "cell_type": "code",
      "source": [
        "for numberHours in range(1,9):\n",
        "  fee=5+2.5*numberHours\n",
        "  if fee<10:\n",
        "    fee=10.0\n",
        "  elif fee>20:\n",
        "    fee=20.0\n",
        "  print(numberHours,fee)"
      ],
      "metadata": {
        "colab": {
          "base_uri": "https://localhost:8080/"
        },
        "id": "51B6HqdXXm8A",
        "outputId": "8d16aeb5-a3df-40af-8473-9464a6a0a441"
      },
      "execution_count": 5,
      "outputs": [
        {
          "output_type": "stream",
          "name": "stdout",
          "text": [
            "1 10.0\n",
            "2 10.0\n",
            "3 12.5\n",
            "4 15.0\n",
            "5 17.5\n",
            "6 20.0\n",
            "7 20.0\n",
            "8 20.0\n"
          ]
        }
      ]
    },
    {
      "cell_type": "code",
      "source": [
        "for adMoney in range(0,201,25):\n",
        "  revenue=(20+2*round(adMoney**.5))*10\n",
        "  costs=200+adMoney\n",
        "  profit=revenue-costs\n",
        "  print(adMoney,profit)"
      ],
      "metadata": {
        "colab": {
          "base_uri": "https://localhost:8080/"
        },
        "id": "jibGj_ZYdIWf",
        "outputId": "675e4999-9303-4ff0-a0fa-df888f7e80b2"
      },
      "execution_count": 8,
      "outputs": [
        {
          "output_type": "stream",
          "name": "stdout",
          "text": [
            "0 0\n",
            "25 75\n",
            "50 90\n",
            "75 105\n",
            "100 100\n",
            "125 95\n",
            "150 90\n",
            "175 85\n",
            "200 80\n"
          ]
        }
      ]
    },
    {
      "cell_type": "code",
      "source": [
        "import random\n",
        "\n",
        "play=input('Do you want to play a game (yes/no)?')\n",
        "\n",
        "while play=='yes':\n",
        "  p1=input('Player 1- Choose between rock/paper/scissors:')\n",
        "  p2=random.choice({'rock','paper','scissors'})\n",
        "\n",
        "  if p1==p2:\n",
        "    print('Draw')\n",
        "  elif p1=='Rock' and p2== 'Scissors':\n",
        "    print('Player 1 wins!')\n",
        "  elif p1=='Scissors' and p2== 'Paper':\n",
        "    print('Player 1 wins!')\n",
        "  elif p1=='Paper' and p2== 'Rock':\n",
        "    print('Player 1 wins!')\n",
        "  else:\n",
        "    print('Computer wins!')\n",
        "\n",
        "  play=input('Do you want to play a game (yes/no)?')\n",
        "print('Good day...')"
      ],
      "metadata": {
        "colab": {
          "base_uri": "https://localhost:8080/"
        },
        "id": "1WKJJ0CbHSaJ",
        "outputId": "562230b7-fb28-4ba0-bcf9-b730f5a0e663"
      },
      "execution_count": 2,
      "outputs": [
        {
          "output_type": "stream",
          "name": "stdout",
          "text": [
            "Do you want to play a game (yes/no)?yes\n",
            "Player 1- Choose between rock/paper/scissors:rock\n",
            "Player 2- Choose between rock/paper/scissors:paper\n",
            "Player 2 wins!\n",
            "Do you want to play a game (yes/no)?no\n",
            "Good day...\n"
          ]
        }
      ]
    }
  ]
}